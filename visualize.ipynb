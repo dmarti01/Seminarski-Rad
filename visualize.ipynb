{
 "cells": [
  {
   "cell_type": "code",
   "execution_count": 2,
   "metadata": {},
   "outputs": [],
   "source": [
    "#VISUALIZING DATA"
   ]
  },
  {
   "cell_type": "code",
   "execution_count": 3,
   "metadata": {},
   "outputs": [],
   "source": [
    "# IMPORTING DATA"
   ]
  },
  {
   "cell_type": "code",
   "execution_count": 21,
   "metadata": {},
   "outputs": [
    {
     "name": "stdout",
     "output_type": "stream",
     "text": [
      "merged_data.csv\n"
     ]
    }
   ],
   "source": [
    "import pandas as pd\n",
    "\n",
    "path = \"merged_data.csv\"\n",
    "print(path)\n",
    "df = pd.read_csv(path)\n"
   ]
  },
  {
   "cell_type": "code",
   "execution_count": 5,
   "metadata": {},
   "outputs": [
    {
     "data": {
      "text/html": [
       "<div>\n",
       "<style scoped>\n",
       "    .dataframe tbody tr th:only-of-type {\n",
       "        vertical-align: middle;\n",
       "    }\n",
       "\n",
       "    .dataframe tbody tr th {\n",
       "        vertical-align: top;\n",
       "    }\n",
       "\n",
       "    .dataframe thead th {\n",
       "        text-align: right;\n",
       "    }\n",
       "</style>\n",
       "<table border=\"1\" class=\"dataframe\">\n",
       "  <thead>\n",
       "    <tr style=\"text-align: right;\">\n",
       "      <th></th>\n",
       "      <th>linenum</th>\n",
       "      <th>lat</th>\n",
       "      <th>lng</th>\n",
       "      <th>county</th>\n",
       "      <th>city</th>\n",
       "      <th>carBrand</th>\n",
       "      <th>carModel</th>\n",
       "      <th>price</th>\n",
       "      <th>yearOfDistribution</th>\n",
       "      <th>motor</th>\n",
       "      <th>power</th>\n",
       "      <th>oblikVozila</th>\n",
       "      <th>brojVrata</th>\n",
       "      <th>mileage</th>\n",
       "      <th>url</th>\n",
       "    </tr>\n",
       "  </thead>\n",
       "  <tbody>\n",
       "    <tr>\n",
       "      <th>0</th>\n",
       "      <td>1</td>\n",
       "      <td>46.168390</td>\n",
       "      <td>16.805847</td>\n",
       "      <td>Koprivničko-križevačka</td>\n",
       "      <td>Koprivnica</td>\n",
       "      <td>Abarth</td>\n",
       "      <td>Grande Punto</td>\n",
       "      <td>2.500 €</td>\n",
       "      <td>2007. godište</td>\n",
       "      <td>Benzin</td>\n",
       "      <td>70 kW</td>\n",
       "      <td>hatchback</td>\n",
       "      <td>3</td>\n",
       "      <td>219000 km</td>\n",
       "      <td>https://www.njuskalo.hr/auti/abarth-grande-pun...</td>\n",
       "    </tr>\n",
       "    <tr>\n",
       "      <th>1</th>\n",
       "      <td>2</td>\n",
       "      <td>45.336184</td>\n",
       "      <td>17.663217</td>\n",
       "      <td>Požeško-slavonska</td>\n",
       "      <td>Požega</td>\n",
       "      <td>Abarth</td>\n",
       "      <td>500</td>\n",
       "      <td>25.800 €</td>\n",
       "      <td>2016. godište</td>\n",
       "      <td>Benzin</td>\n",
       "      <td>132 kW</td>\n",
       "      <td>hatchback</td>\n",
       "      <td>3</td>\n",
       "      <td>58192 km</td>\n",
       "      <td>https://www.njuskalo.hr/auti/abarth-500-595-co...</td>\n",
       "    </tr>\n",
       "    <tr>\n",
       "      <th>2</th>\n",
       "      <td>3</td>\n",
       "      <td>45.813493</td>\n",
       "      <td>16.248339</td>\n",
       "      <td>Zagrebačka</td>\n",
       "      <td>Dugo Selo</td>\n",
       "      <td>Abarth</td>\n",
       "      <td>500</td>\n",
       "      <td>16.000 €</td>\n",
       "      <td>2015. godište</td>\n",
       "      <td>Benzin</td>\n",
       "      <td>118 kW</td>\n",
       "      <td>coupe</td>\n",
       "      <td>2</td>\n",
       "      <td>111000 km</td>\n",
       "      <td>https://www.njuskalo.hr/auti/abarth-500-595-co...</td>\n",
       "    </tr>\n",
       "    <tr>\n",
       "      <th>3</th>\n",
       "      <td>4</td>\n",
       "      <td>45.821575</td>\n",
       "      <td>15.978941</td>\n",
       "      <td>Grad Zagreb</td>\n",
       "      <td>Gornji Grad - Medveščak</td>\n",
       "      <td>Abarth</td>\n",
       "      <td>500</td>\n",
       "      <td>26.000 €</td>\n",
       "      <td>2016. godište</td>\n",
       "      <td>Benzin</td>\n",
       "      <td>138 kW</td>\n",
       "      <td>coupe</td>\n",
       "      <td>3</td>\n",
       "      <td>58000 km</td>\n",
       "      <td>https://www.njuskalo.hr/auti/abarth-595-compet...</td>\n",
       "    </tr>\n",
       "    <tr>\n",
       "      <th>4</th>\n",
       "      <td>5</td>\n",
       "      <td>45.361542</td>\n",
       "      <td>14.357804</td>\n",
       "      <td>Primorsko-goranska</td>\n",
       "      <td>Kastav</td>\n",
       "      <td>Abarth</td>\n",
       "      <td>500</td>\n",
       "      <td>17.900 €</td>\n",
       "      <td>2017. godište</td>\n",
       "      <td>Benzin</td>\n",
       "      <td>NaN</td>\n",
       "      <td>hatchback</td>\n",
       "      <td>2</td>\n",
       "      <td>65000 km</td>\n",
       "      <td>https://www.njuskalo.hr/auti/abarth-595-1.4-t-...</td>\n",
       "    </tr>\n",
       "  </tbody>\n",
       "</table>\n",
       "</div>"
      ],
      "text/plain": [
       "   linenum        lat        lng                  county  \\\n",
       "0        1  46.168390  16.805847  Koprivničko-križevačka   \n",
       "1        2  45.336184  17.663217       Požeško-slavonska   \n",
       "2        3  45.813493  16.248339              Zagrebačka   \n",
       "3        4  45.821575  15.978941             Grad Zagreb   \n",
       "4        5  45.361542  14.357804      Primorsko-goranska   \n",
       "\n",
       "                      city carBrand      carModel     price  \\\n",
       "0               Koprivnica   Abarth  Grande Punto   2.500 €   \n",
       "1                   Požega   Abarth           500  25.800 €   \n",
       "2                Dugo Selo   Abarth           500  16.000 €   \n",
       "3  Gornji Grad - Medveščak   Abarth           500  26.000 €   \n",
       "4                   Kastav   Abarth           500  17.900 €   \n",
       "\n",
       "  yearOfDistribution   motor   power oblikVozila  brojVrata    mileage  \\\n",
       "0      2007. godište  Benzin   70 kW   hatchback          3  219000 km   \n",
       "1      2016. godište  Benzin  132 kW   hatchback          3   58192 km   \n",
       "2      2015. godište  Benzin  118 kW       coupe          2  111000 km   \n",
       "3      2016. godište  Benzin  138 kW       coupe          3   58000 km   \n",
       "4      2017. godište  Benzin     NaN   hatchback          2   65000 km   \n",
       "\n",
       "                                                 url  \n",
       "0  https://www.njuskalo.hr/auti/abarth-grande-pun...  \n",
       "1  https://www.njuskalo.hr/auti/abarth-500-595-co...  \n",
       "2  https://www.njuskalo.hr/auti/abarth-500-595-co...  \n",
       "3  https://www.njuskalo.hr/auti/abarth-595-compet...  \n",
       "4  https://www.njuskalo.hr/auti/abarth-595-1.4-t-...  "
      ]
     },
     "execution_count": 5,
     "metadata": {},
     "output_type": "execute_result"
    }
   ],
   "source": [
    "df.head()"
   ]
  },
  {
   "cell_type": "code",
   "execution_count": 19,
   "metadata": {},
   "outputs": [
    {
     "data": {
      "text/plain": [
       "linenum                 int64\n",
       "lat                   float64\n",
       "lng                   float64\n",
       "county                 object\n",
       "city                   object\n",
       "carBrand               object\n",
       "carModel               object\n",
       "price                  object\n",
       "yearOfDistribution     object\n",
       "motor                  object\n",
       "power                  object\n",
       "oblikVozila            object\n",
       "brojVrata               int64\n",
       "mileage                object\n",
       "url                    object\n",
       "dtype: object"
      ]
     },
     "execution_count": 19,
     "metadata": {},
     "output_type": "execute_result"
    }
   ],
   "source": [
    "df.dtypes"
   ]
  }
 ],
 "metadata": {
  "kernelspec": {
   "display_name": "Python 3",
   "language": "python",
   "name": "python3"
  },
  "language_info": {
   "codemirror_mode": {
    "name": "ipython",
    "version": 3
   },
   "file_extension": ".py",
   "mimetype": "text/x-python",
   "name": "python",
   "nbconvert_exporter": "python",
   "pygments_lexer": "ipython3",
   "version": "3.11.1"
  }
 },
 "nbformat": 4,
 "nbformat_minor": 2
}
